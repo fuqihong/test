{
 "cells": [
  {
   "cell_type": "code",
   "execution_count": 29,
   "metadata": {},
   "outputs": [],
   "source": [
    "import pandas as pd\n",
    "import numpy as np"
   ]
  },
  {
   "cell_type": "code",
   "execution_count": 30,
   "metadata": {},
   "outputs": [],
   "source": [
    "import matplotlib.pyplot as plt\n",
    "\n",
    "import seaborn as sns #要注意的是一旦导入了seaborn，matplotlib的默认作图风格就会被覆盖成seaborn的格式\n",
    "\n",
    "%matplotlib inline  \n",
    "\n",
    "import warnings\n",
    "warnings.filterwarnings('ignore')\n",
    "pd.set_option('max_colwidth',400)"
   ]
  },
  {
   "cell_type": "code",
   "execution_count": 31,
   "metadata": {},
   "outputs": [],
   "source": [
    "import os "
   ]
  },
  {
   "cell_type": "code",
   "execution_count": 32,
   "metadata": {},
   "outputs": [
    {
     "name": "stdout",
     "output_type": "stream",
     "text": [
      "df_temp_result_5= pd.read_csv('df_temp_result_5.csv')\n",
      "df_temp_result_2= pd.read_csv('df_temp_result_2.csv')\n",
      "df_result_27= pd.read_csv('df_result_27.csv')\n",
      "Untitled= pd.read_csv('Untitled.ipynb')\n",
      "Untitled.ipynb\n",
      "df_result_2= pd.read_csv('df_result_2.csv')\n",
      "df_result_26= pd.read_csv('df_result_26.csv')\n",
      "df_result_1= pd.read_csv('df_result_1.csv')\n",
      "天创商户在易宝的商编= pd.read_csv('天创商户在易宝的商编.xlsx')\n",
      "df_result_25= pd.read_csv('df_result_25.csv')\n",
      "df_result_35= pd.read_csv('df_result_35.csv')\n",
      "df_result_5= pd.read_csv('df_result_5.csv')\n",
      "df_result_11= pd.read_csv('df_result_11.csv')\n",
      "df_result_14= pd.read_csv('df_result_14.csv')\n",
      "df_result_17= pd.read_csv('df_result_17.csv')\n",
      "= pd.read_csv('.ipynb_checkpoints')\n",
      ".ipynb_checkpoints\n",
      "df_temp_result_10= pd.read_csv('df_temp_result_10.csv')\n",
      "df_temp_result_8= pd.read_csv('df_temp_result_8.csv')\n"
     ]
    }
   ],
   "source": [
    "for file_name in os.listdir():\n",
    "    file_name_pre, file_name_type = file_name.split('.')\n",
    "    print(file_name_pre + \"= pd.read_csv('{s}')\".format(s = file_name))\n",
    "    if file_name_type =='csv':\n",
    "        exec(file_name_pre + \"= pd.read_csv('{s}')\".format(s = file_name))\n",
    "    elif file_name_type =='xlsx':\n",
    "        exec(file_name_pre + \"= pd.read_excel('{s}')\".format(s = file_name))\n",
    "    else:\n",
    "        print(file_name)"
   ]
  },
  {
   "cell_type": "code",
   "execution_count": 33,
   "metadata": {},
   "outputs": [
    {
     "data": {
      "text/plain": [
       "<matplotlib.axes._subplots.AxesSubplot at 0x11aa68d30>"
      ]
     },
     "execution_count": 33,
     "metadata": {},
     "output_type": "execute_result"
    },
    {
     "data": {
      "image/png": "[encoded data removed]",
      "text/plain": [
       "<matplotlib.figure.Figure at 0x10e8180b8>"
      ]
     },
     "metadata": {},
     "output_type": "display_data"
    }
   ],
   "source": [
    "fig, ax = plt.subplots()\n",
    "fig.set_size_inches(10.7, 4.27)\n",
    "sns.pointplot(x = 'month', y = 'no_mec', data = df_result_2, ax = ax, )\n",
    "ax2 = ax.twinx()\n",
    "sns.pointplot(x = 'month', y = 'IDCARD', data = df_result_2, ax = ax2, color= 'y', linestyles= '--', label=\"A\")"
   ]
  },
  {
   "cell_type": "code",
   "execution_count": 34,
   "metadata": {},
   "outputs": [],
   "source": [
    "df_result_30 = df_result_14.groupby(['no_mec'])['flag_overdue', 'IDCARD'].sum().reset_index()"
   ]
  },
  {
   "cell_type": "code",
   "execution_count": 35,
   "metadata": {},
   "outputs": [],
   "source": [
    "df_result_26 = df_result_25.sort_values('IDCARD_all', ascending= False).reset_index()"
   ]
  },
  {
   "cell_type": "code",
   "execution_count": 36,
   "metadata": {},
   "outputs": [],
   "source": [
    "df_result_27 = df_result_26[df_result_26['IDCARD_all'] > 15000]"
   ]
  },
  {
   "cell_type": "code",
   "execution_count": 37,
   "metadata": {},
   "outputs": [
    {
     "data": {
      "text/html": [
       "<div>\n",
       "<style scoped>\n",
       "    .dataframe tbody tr th:only-of-type {\n",
       "        vertical-align: middle;\n",
       "    }\n",
       "\n",
       "    .dataframe tbody tr th {\n",
       "        vertical-align: top;\n",
       "    }\n",
       "\n",
       "    .dataframe thead th {\n",
       "        text-align: right;\n",
       "    }\n",
       "</style>\n",
       "<table border=\"1\" class=\"dataframe\">\n",
       "  <thead>\n",
       "    <tr style=\"text-align: right;\">\n",
       "      <th></th>\n",
       "      <th>no_mec</th>\n",
       "      <th>month</th>\n",
       "      <th>flag_overdue</th>\n",
       "      <th>IDCARD</th>\n",
       "      <th>fpd</th>\n",
       "    </tr>\n",
       "  </thead>\n",
       "  <tbody>\n",
       "    <tr>\n",
       "      <th>0</th>\n",
       "      <td>10012448854</td>\n",
       "      <td>2018-03</td>\n",
       "      <td>9</td>\n",
       "      <td>12</td>\n",
       "      <td>0.750000</td>\n",
       "    </tr>\n",
       "    <tr>\n",
       "      <th>1</th>\n",
       "      <td>10012448854</td>\n",
       "      <td>2018-04</td>\n",
       "      <td>78</td>\n",
       "      <td>110</td>\n",
       "      <td>0.709091</td>\n",
       "    </tr>\n",
       "    <tr>\n",
       "      <th>2</th>\n",
       "      <td>10012448854</td>\n",
       "      <td>2018-05</td>\n",
       "      <td>117</td>\n",
       "      <td>154</td>\n",
       "      <td>0.759740</td>\n",
       "    </tr>\n",
       "    <tr>\n",
       "      <th>3</th>\n",
       "      <td>10012448854</td>\n",
       "      <td>2018-06</td>\n",
       "      <td>12</td>\n",
       "      <td>13</td>\n",
       "      <td>0.923077</td>\n",
       "    </tr>\n",
       "    <tr>\n",
       "      <th>4</th>\n",
       "      <td>10012469117</td>\n",
       "      <td>2018-01</td>\n",
       "      <td>1190</td>\n",
       "      <td>15850</td>\n",
       "      <td>0.075079</td>\n",
       "    </tr>\n",
       "  </tbody>\n",
       "</table>\n",
       "</div>"
      ],
      "text/plain": [
       "        no_mec    month  flag_overdue  IDCARD       fpd\n",
       "0  10012448854  2018-03             9      12  0.750000\n",
       "1  10012448854  2018-04            78     110  0.709091\n",
       "2  10012448854  2018-05           117     154  0.759740\n",
       "3  10012448854  2018-06            12      13  0.923077\n",
       "4  10012469117  2018-01          1190   15850  0.075079"
      ]
     },
     "execution_count": 37,
     "metadata": {},
     "output_type": "execute_result"
    }
   ],
   "source": [
    "df_result_14.head()"
   ]
  },
  {
   "cell_type": "code",
   "execution_count": 38,
   "metadata": {},
   "outputs": [],
   "source": [
    "df_result_30['fpd'] = df_result_30['flag_overdue']/df_result_30['IDCARD']"
   ]
  },
  {
   "cell_type": "code",
   "execution_count": 39,
   "metadata": {},
   "outputs": [
    {
     "data": {
      "text/html": [
       "<div>\n",
       "<style scoped>\n",
       "    .dataframe tbody tr th:only-of-type {\n",
       "        vertical-align: middle;\n",
       "    }\n",
       "\n",
       "    .dataframe tbody tr th {\n",
       "        vertical-align: top;\n",
       "    }\n",
       "\n",
       "    .dataframe thead th {\n",
       "        text-align: right;\n",
       "    }\n",
       "</style>\n",
       "<table border=\"1\" class=\"dataframe\">\n",
       "  <thead>\n",
       "    <tr style=\"text-align: right;\">\n",
       "      <th></th>\n",
       "      <th>no_mec</th>\n",
       "      <th>IDCARD_intersection</th>\n",
       "      <th>IDCARD_all</th>\n",
       "      <th>IDCARD_pct</th>\n",
       "    </tr>\n",
       "  </thead>\n",
       "  <tbody>\n",
       "    <tr>\n",
       "      <th>0</th>\n",
       "      <td>10012448854</td>\n",
       "      <td>179</td>\n",
       "      <td>203</td>\n",
       "      <td>0.881773</td>\n",
       "    </tr>\n",
       "  </tbody>\n",
       "</table>\n",
       "</div>"
      ],
      "text/plain": [
       "        no_mec  IDCARD_intersection  IDCARD_all  IDCARD_pct\n",
       "0  10012448854                  179         203    0.881773"
      ]
     },
     "execution_count": 39,
     "metadata": {},
     "output_type": "execute_result"
    }
   ],
   "source": [
    "df_result_25[df_result_25['no_mec'] == 10012448854]"
   ]
  },
  {
   "cell_type": "code",
   "execution_count": 40,
   "metadata": {},
   "outputs": [
    {
     "data": {
      "text/html": [
       "<div>\n",
       "<style scoped>\n",
       "    .dataframe tbody tr th:only-of-type {\n",
       "        vertical-align: middle;\n",
       "    }\n",
       "\n",
       "    .dataframe tbody tr th {\n",
       "        vertical-align: top;\n",
       "    }\n",
       "\n",
       "    .dataframe thead th {\n",
       "        text-align: right;\n",
       "    }\n",
       "</style>\n",
       "<table border=\"1\" class=\"dataframe\">\n",
       "  <thead>\n",
       "    <tr style=\"text-align: right;\">\n",
       "      <th></th>\n",
       "      <th>no_mec</th>\n",
       "      <th>month</th>\n",
       "      <th>flag_overdue</th>\n",
       "      <th>IDCARD</th>\n",
       "      <th>fpd</th>\n",
       "    </tr>\n",
       "  </thead>\n",
       "  <tbody>\n",
       "    <tr>\n",
       "      <th>0</th>\n",
       "      <td>10012448854</td>\n",
       "      <td>2018-03</td>\n",
       "      <td>9</td>\n",
       "      <td>12</td>\n",
       "      <td>0.750000</td>\n",
       "    </tr>\n",
       "    <tr>\n",
       "      <th>1</th>\n",
       "      <td>10012448854</td>\n",
       "      <td>2018-04</td>\n",
       "      <td>78</td>\n",
       "      <td>110</td>\n",
       "      <td>0.709091</td>\n",
       "    </tr>\n",
       "    <tr>\n",
       "      <th>2</th>\n",
       "      <td>10012448854</td>\n",
       "      <td>2018-05</td>\n",
       "      <td>117</td>\n",
       "      <td>154</td>\n",
       "      <td>0.759740</td>\n",
       "    </tr>\n",
       "    <tr>\n",
       "      <th>3</th>\n",
       "      <td>10012448854</td>\n",
       "      <td>2018-06</td>\n",
       "      <td>12</td>\n",
       "      <td>13</td>\n",
       "      <td>0.923077</td>\n",
       "    </tr>\n",
       "  </tbody>\n",
       "</table>\n",
       "</div>"
      ],
      "text/plain": [
       "        no_mec    month  flag_overdue  IDCARD       fpd\n",
       "0  10012448854  2018-03             9      12  0.750000\n",
       "1  10012448854  2018-04            78     110  0.709091\n",
       "2  10012448854  2018-05           117     154  0.759740\n",
       "3  10012448854  2018-06            12      13  0.923077"
      ]
     },
     "execution_count": 40,
     "metadata": {},
     "output_type": "execute_result"
    }
   ],
   "source": [
    "df_result_14[df_result_14['no_mec'] == 10012448854]"
   ]
  },
  {
   "cell_type": "code",
   "execution_count": 41,
   "metadata": {},
   "outputs": [],
   "source": [
    "df_result_31 = df_result_1.groupby(['no_mec'])['IDCARD'].mean().reset_index()"
   ]
  },
  {
   "cell_type": "code",
   "execution_count": 42,
   "metadata": {},
   "outputs": [],
   "source": [
    "df_result_32 = df_result_31[df_result_31['IDCARD'] > 15000]"
   ]
  },
  {
   "cell_type": "code",
   "execution_count": 43,
   "metadata": {},
   "outputs": [],
   "source": [
    "df_result_33= df_result_32.merge(df_result_30, on = ['no_mec'], how = 'left')"
   ]
  },
  {
   "cell_type": "code",
   "execution_count": 44,
   "metadata": {},
   "outputs": [],
   "source": [
    "df_result_33 = df_result_33.dropna()"
   ]
  },
  {
   "cell_type": "code",
   "execution_count": null,
   "metadata": {},
   "outputs": [],
   "source": []
  },
  {
   "cell_type": "code",
   "execution_count": 45,
   "metadata": {},
   "outputs": [
    {
     "data": {
      "text/html": [
       "<div>\n",
       "<style scoped>\n",
       "    .dataframe tbody tr th:only-of-type {\n",
       "        vertical-align: middle;\n",
       "    }\n",
       "\n",
       "    .dataframe tbody tr th {\n",
       "        vertical-align: top;\n",
       "    }\n",
       "\n",
       "    .dataframe thead th {\n",
       "        text-align: right;\n",
       "    }\n",
       "</style>\n",
       "<table border=\"1\" class=\"dataframe\">\n",
       "  <thead>\n",
       "    <tr style=\"text-align: right;\">\n",
       "      <th></th>\n",
       "      <th>no_mec</th>\n",
       "      <th>IDCARD_intersection</th>\n",
       "      <th>IDCARD_all</th>\n",
       "      <th>IDCARD_pct</th>\n",
       "    </tr>\n",
       "  </thead>\n",
       "  <tbody>\n",
       "    <tr>\n",
       "      <th>0</th>\n",
       "      <td>10012448854</td>\n",
       "      <td>179</td>\n",
       "      <td>203</td>\n",
       "      <td>0.881773</td>\n",
       "    </tr>\n",
       "    <tr>\n",
       "      <th>1</th>\n",
       "      <td>10012469117</td>\n",
       "      <td>59006</td>\n",
       "      <td>92721</td>\n",
       "      <td>0.636382</td>\n",
       "    </tr>\n",
       "    <tr>\n",
       "      <th>2</th>\n",
       "      <td>10012470020</td>\n",
       "      <td>873930</td>\n",
       "      <td>2975514</td>\n",
       "      <td>0.293707</td>\n",
       "    </tr>\n",
       "    <tr>\n",
       "      <th>3</th>\n",
       "      <td>10012471228</td>\n",
       "      <td>98905</td>\n",
       "      <td>109748</td>\n",
       "      <td>0.901201</td>\n",
       "    </tr>\n",
       "    <tr>\n",
       "      <th>4</th>\n",
       "      <td>10012472954</td>\n",
       "      <td>3687</td>\n",
       "      <td>26792</td>\n",
       "      <td>0.137616</td>\n",
       "    </tr>\n",
       "  </tbody>\n",
       "</table>\n",
       "</div>"
      ],
      "text/plain": [
       "        no_mec  IDCARD_intersection  IDCARD_all  IDCARD_pct\n",
       "0  10012448854                  179         203    0.881773\n",
       "1  10012469117                59006       92721    0.636382\n",
       "2  10012470020               873930     2975514    0.293707\n",
       "3  10012471228                98905      109748    0.901201\n",
       "4  10012472954                 3687       26792    0.137616"
      ]
     },
     "execution_count": 45,
     "metadata": {},
     "output_type": "execute_result"
    }
   ],
   "source": [
    "df_result_25.head()"
   ]
  },
  {
   "cell_type": "code",
   "execution_count": 46,
   "metadata": {},
   "outputs": [],
   "source": [
    "df_result_34 = df_result_33.merge(df_result_25, how = 'left')"
   ]
  },
  {
   "cell_type": "code",
   "execution_count": 47,
   "metadata": {},
   "outputs": [
    {
     "data": {
      "text/plain": [
       "(36, 8)"
      ]
     },
     "execution_count": 47,
     "metadata": {},
     "output_type": "execute_result"
    }
   ],
   "source": [
    "df_result_34[(df_result_34['IDCARD_pct'] > 0.75) & (df_result_34['fpd'] > 0.8)].shape"
   ]
  },
  {
   "cell_type": "code",
   "execution_count": 48,
   "metadata": {},
   "outputs": [],
   "source": [
    "df_result_34['pct_flag'] = np.where(df_result_34['IDCARD_pct'] > 0.75 , 1, 0)"
   ]
  },
  {
   "cell_type": "code",
   "execution_count": 49,
   "metadata": {},
   "outputs": [],
   "source": [
    "df_result_34['fpd_flag'] = np.where(df_result_34['fpd'] > 0.8 , 1, 0)"
   ]
  },
  {
   "cell_type": "code",
   "execution_count": 50,
   "metadata": {},
   "outputs": [
    {
     "data": {
      "text/html": [
       "<div>\n",
       "<style scoped>\n",
       "    .dataframe tbody tr th:only-of-type {\n",
       "        vertical-align: middle;\n",
       "    }\n",
       "\n",
       "    .dataframe tbody tr th {\n",
       "        vertical-align: top;\n",
       "    }\n",
       "\n",
       "    .dataframe thead th {\n",
       "        text-align: right;\n",
       "    }\n",
       "</style>\n",
       "<table border=\"1\" class=\"dataframe\">\n",
       "  <thead>\n",
       "    <tr style=\"text-align: right;\">\n",
       "      <th></th>\n",
       "      <th>no_mec</th>\n",
       "      <th>IDCARD_x</th>\n",
       "      <th>flag_overdue</th>\n",
       "      <th>IDCARD_y</th>\n",
       "      <th>fpd</th>\n",
       "      <th>IDCARD_intersection</th>\n",
       "      <th>IDCARD_all</th>\n",
       "      <th>IDCARD_pct</th>\n",
       "      <th>pct_flag</th>\n",
       "      <th>fpd_flag</th>\n",
       "    </tr>\n",
       "  </thead>\n",
       "  <tbody>\n",
       "    <tr>\n",
       "      <th>0</th>\n",
       "      <td>10012470020</td>\n",
       "      <td>972080.700000</td>\n",
       "      <td>1625304.0</td>\n",
       "      <td>2834575.0</td>\n",
       "      <td>0.573385</td>\n",
       "      <td>873930</td>\n",
       "      <td>2975514</td>\n",
       "      <td>0.293707</td>\n",
       "      <td>0</td>\n",
       "      <td>0</td>\n",
       "    </tr>\n",
       "    <tr>\n",
       "      <th>1</th>\n",
       "      <td>10012996445</td>\n",
       "      <td>140372.100000</td>\n",
       "      <td>299059.0</td>\n",
       "      <td>328084.0</td>\n",
       "      <td>0.911532</td>\n",
       "      <td>673943</td>\n",
       "      <td>848287</td>\n",
       "      <td>0.794475</td>\n",
       "      <td>1</td>\n",
       "      <td>1</td>\n",
       "    </tr>\n",
       "    <tr>\n",
       "      <th>2</th>\n",
       "      <td>10013631809</td>\n",
       "      <td>79596.600000</td>\n",
       "      <td>34884.0</td>\n",
       "      <td>149188.0</td>\n",
       "      <td>0.233826</td>\n",
       "      <td>42822</td>\n",
       "      <td>223105</td>\n",
       "      <td>0.191937</td>\n",
       "      <td>0</td>\n",
       "      <td>0</td>\n",
       "    </tr>\n",
       "    <tr>\n",
       "      <th>3</th>\n",
       "      <td>10013642751</td>\n",
       "      <td>51502.400000</td>\n",
       "      <td>213903.0</td>\n",
       "      <td>263353.0</td>\n",
       "      <td>0.812229</td>\n",
       "      <td>192189</td>\n",
       "      <td>261761</td>\n",
       "      <td>0.734216</td>\n",
       "      <td>0</td>\n",
       "      <td>1</td>\n",
       "    </tr>\n",
       "    <tr>\n",
       "      <th>4</th>\n",
       "      <td>10013687590</td>\n",
       "      <td>222922.285714</td>\n",
       "      <td>121255.0</td>\n",
       "      <td>430346.0</td>\n",
       "      <td>0.281762</td>\n",
       "      <td>740720</td>\n",
       "      <td>857885</td>\n",
       "      <td>0.863426</td>\n",
       "      <td>1</td>\n",
       "      <td>0</td>\n",
       "    </tr>\n",
       "  </tbody>\n",
       "</table>\n",
       "</div>"
      ],
      "text/plain": [
       "        no_mec       IDCARD_x  flag_overdue   IDCARD_y       fpd  \\\n",
       "0  10012470020  972080.700000     1625304.0  2834575.0  0.573385   \n",
       "1  10012996445  140372.100000      299059.0   328084.0  0.911532   \n",
       "2  10013631809   79596.600000       34884.0   149188.0  0.233826   \n",
       "3  10013642751   51502.400000      213903.0   263353.0  0.812229   \n",
       "4  10013687590  222922.285714      121255.0   430346.0  0.281762   \n",
       "\n",
       "   IDCARD_intersection  IDCARD_all  IDCARD_pct  pct_flag  fpd_flag  \n",
       "0               873930     2975514    0.293707         0         0  \n",
       "1               673943      848287    0.794475         1         1  \n",
       "2                42822      223105    0.191937         0         0  \n",
       "3               192189      261761    0.734216         0         1  \n",
       "4               740720      857885    0.863426         1         0  "
      ]
     },
     "execution_count": 50,
     "metadata": {},
     "output_type": "execute_result"
    }
   ],
   "source": [
    "df_result_34.head()"
   ]
  },
  {
   "cell_type": "code",
   "execution_count": 51,
   "metadata": {},
   "outputs": [
    {
     "data": {
      "text/html": [
       "<div>\n",
       "<style scoped>\n",
       "    .dataframe tbody tr th:only-of-type {\n",
       "        vertical-align: middle;\n",
       "    }\n",
       "\n",
       "    .dataframe tbody tr th {\n",
       "        vertical-align: top;\n",
       "    }\n",
       "\n",
       "    .dataframe thead th {\n",
       "        text-align: right;\n",
       "    }\n",
       "</style>\n",
       "<table border=\"1\" class=\"dataframe\">\n",
       "  <thead>\n",
       "    <tr style=\"text-align: right;\">\n",
       "      <th></th>\n",
       "      <th>fpd_flag</th>\n",
       "      <th>pct_flag</th>\n",
       "      <th>IDCARD_x</th>\n",
       "      <th>no_mec</th>\n",
       "    </tr>\n",
       "  </thead>\n",
       "  <tbody>\n",
       "    <tr>\n",
       "      <th>0</th>\n",
       "      <td>0</td>\n",
       "      <td>0</td>\n",
       "      <td>2.249875e+06</td>\n",
       "      <td>15</td>\n",
       "    </tr>\n",
       "    <tr>\n",
       "      <th>1</th>\n",
       "      <td>0</td>\n",
       "      <td>1</td>\n",
       "      <td>2.813288e+06</td>\n",
       "      <td>48</td>\n",
       "    </tr>\n",
       "    <tr>\n",
       "      <th>2</th>\n",
       "      <td>1</td>\n",
       "      <td>0</td>\n",
       "      <td>9.149456e+05</td>\n",
       "      <td>5</td>\n",
       "    </tr>\n",
       "    <tr>\n",
       "      <th>3</th>\n",
       "      <td>1</td>\n",
       "      <td>1</td>\n",
       "      <td>1.791247e+06</td>\n",
       "      <td>36</td>\n",
       "    </tr>\n",
       "  </tbody>\n",
       "</table>\n",
       "</div>"
      ],
      "text/plain": [
       "   fpd_flag  pct_flag      IDCARD_x  no_mec\n",
       "0         0         0  2.249875e+06      15\n",
       "1         0         1  2.813288e+06      48\n",
       "2         1         0  9.149456e+05       5\n",
       "3         1         1  1.791247e+06      36"
      ]
     },
     "execution_count": 51,
     "metadata": {},
     "output_type": "execute_result"
    }
   ],
   "source": [
    "df_result_34.groupby(['fpd_flag', 'pct_flag']).agg({'IDCARD_x':'sum', 'no_mec':'count'}).reset_index()"
   ]
  },
  {
   "cell_type": "code",
   "execution_count": 52,
   "metadata": {},
   "outputs": [],
   "source": [
    "df_result_35 = df_result_34[(df_result_34.fpd_flag ==1) & (df_result_34.pct_flag == 1) ].sort_values('IDCARD_x', ascending = False)"
   ]
  },
  {
   "cell_type": "code",
   "execution_count": 53,
   "metadata": {},
   "outputs": [],
   "source": [
    "df_result_35.to_csv('df_result_35.csv', index = False)"
   ]
  },
  {
   "cell_type": "code",
   "execution_count": 56,
   "metadata": {},
   "outputs": [
    {
     "data": {
      "text/plain": [
       "1791247.0111111111"
      ]
     },
     "execution_count": 56,
     "metadata": {},
     "output_type": "execute_result"
    }
   ],
   "source": [
    "df_result_35['IDCARD_x'].sum()"
   ]
  },
  {
   "cell_type": "code",
   "execution_count": 57,
   "metadata": {},
   "outputs": [
    {
     "data": {
      "text/plain": [
       "49756.861419753084"
      ]
     },
     "execution_count": 57,
     "metadata": {},
     "output_type": "execute_result"
    }
   ],
   "source": [
    "df_result_35['IDCARD_x'].mean()"
   ]
  },
  {
   "cell_type": "code",
   "execution_count": 64,
   "metadata": {},
   "outputs": [
    {
     "data": {
      "text/plain": [
       "1636075.1944444445"
      ]
     },
     "execution_count": 64,
     "metadata": {},
     "output_type": "execute_result"
    }
   ],
   "source": [
    "df_result_35[~df_result_35['no_mec'].isin(['10017740966', '10013922543', '10022451722', '10023471494', '10020834349', '10021312187'])]['IDCARD_x'].sum()"
   ]
  },
  {
   "cell_type": "code",
   "execution_count": 62,
   "metadata": {},
   "outputs": [
    {
     "ename": "SyntaxError",
     "evalue": "unexpected EOF while parsing (<ipython-input-62-0d65093b4d02>, line 1)",
     "output_type": "error",
     "traceback": [
      "\u001b[0;36m  File \u001b[0;32m\"<ipython-input-62-0d65093b4d02>\"\u001b[0;36m, line \u001b[0;32m1\u001b[0m\n\u001b[0;31m    df_result_35['no_mec'].isin(['10017740966', '10013922543', '10022451722', '10020834349', '10021312187']\u001b[0m\n\u001b[0m                                                                                                           ^\u001b[0m\n\u001b[0;31mSyntaxError\u001b[0m\u001b[0;31m:\u001b[0m unexpected EOF while parsing\n"
     ]
    }
   ],
   "source": [
    "df_result_35['no_mec'].isin(['10017740966', '10013922543', '10022451722', '10020834349', '10021312187']"
   ]
  },
  {
   "cell_type": "code",
   "execution_count": null,
   "metadata": {},
   "outputs": [],
   "source": []
  }
 ],
 "metadata": {
  "hide_input": false,
  "kernelspec": {
   "display_name": "Python 3",
   "language": "python",
   "name": "python3"
  },
  "language_info": {
   "codemirror_mode": {
    "name": "ipython",
    "version": 3
   },
   "file_extension": ".py",
   "mimetype": "text/x-python",
   "name": "python",
   "nbconvert_exporter": "python",
   "pygments_lexer": "ipython3",
   "version": "3.6.4"
  },
  "toc": {
   "base_numbering": 1,
   "nav_menu": {},
   "number_sections": true,
   "sideBar": true,
   "skip_h1_title": false,
   "title_cell": "Table of Contents",
   "title_sidebar": "Contents",
   "toc_cell": false,
   "toc_position": {},
   "toc_section_display": true,
   "toc_window_display": false
  }
 },
 "nbformat": 4,
 "nbformat_minor": 2
}
